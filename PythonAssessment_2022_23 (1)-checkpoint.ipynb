{
 "cells": [
  {
   "cell_type": "markdown",
   "metadata": {
    "id": "hqlAwxycceLg"
   },
   "source": [
    "# Welcome to the **Python Assessment** of **Vertical Collaboration, Open Community**\n",
    "\n",
    "## About the dataset\n",
    "This dataset contains house sale prices for King County, which includes Seattle. It includes homes sold between May 2014 and May 2015.\n",
    "\n",
    "##### To pass the assessment, you must answer all 11 questions correctly ***Bonus section is optional*.\n",
    "\n",
    "#### Wish you all the best!!\n",
    "\n",
    "\n"
   ]
  },
  {
   "cell_type": "code",
   "execution_count": 1,
   "metadata": {
    "id": "wU_bXJPAcsQc"
   },
   "outputs": [],
   "source": [
    "import numpy as np\n",
    "import pandas as pd\n",
    "import matplotlib.pyplot as plt"
   ]
  },
  {
   "cell_type": "markdown",
   "metadata": {
    "id": "4XxnlWfzd7xk"
   },
   "source": [
    "Q1) Your understanding about (max 50 words)\n",
    "\n",
    "\n",
    "1.   NumPY:\n",
    "Numpy is a powerful python library for the purpose of various computational problems. Numpy has been highly optimised, so it can perform most operations faster than base python. It gives us access to arrays and various methods and functions allowing us to perform a large amount of mathematical operations with ease.\n",
    "\n",
    "2.   Pandas: \n",
    "Pandas is another powerful python library used for data manipulation, cleaning and to perform statistical operations on data. \n",
    "It can allow you to work on huge amounts of data, work with different file format and seamlessly transform between them. This makes it a very powerful tool in the field of data science.\n",
    "\n",
    "3.   MatPlotLib: \n",
    "Matplotlib is a python library widely used for data visualisation. It gives us the tools to create graphs and figures of different kinds of data with amazing flexibility. With it, one can make just about any kind of graph they might imagine.\n",
    "\n"
   ]
  },
  {
   "cell_type": "markdown",
   "metadata": {
    "id": "XmRRFzQccy3j"
   },
   "source": [
    "Q2) Upload the given dataset into the folder named sample_data"
   ]
  },
  {
   "cell_type": "code",
   "execution_count": 2,
   "metadata": {
    "id": "npg0aacAcuDR"
   },
   "outputs": [],
   "source": [
    "sales = pd.read_csv('sample_data/kc_house_data.csv')"
   ]
  },
  {
   "cell_type": "markdown",
   "metadata": {
    "id": "zvQY-iP4c4HD"
   },
   "source": [
    "Q2) Find out the total number of rows and columns present in our dataset"
   ]
  },
  {
   "cell_type": "code",
   "execution_count": 63,
   "metadata": {},
   "outputs": [
    {
     "name": "stdout",
     "output_type": "stream",
     "text": [
      "Number of rows =  21613\n"
     ]
    }
   ],
   "source": [
    "print(\"Number of rows = \",len(sales)) # total number of rows"
   ]
  },
  {
   "cell_type": "code",
   "execution_count": 64,
   "metadata": {},
   "outputs": [
    {
     "name": "stdout",
     "output_type": "stream",
     "text": [
      "Number of columns =  21\n"
     ]
    }
   ],
   "source": [
    "print(\"Number of columns = \",len(sales.columns)) # total number of columns"
   ]
  },
  {
   "cell_type": "markdown",
   "metadata": {
    "id": "R6EDQ3U7dMii"
   },
   "source": [
    "Q3) Find out the mean of Price"
   ]
  },
  {
   "cell_type": "code",
   "execution_count": 65,
   "metadata": {
    "id": "2yVwB0Ztc9zz"
   },
   "outputs": [
    {
     "name": "stdout",
     "output_type": "stream",
     "text": [
      "Mean of price =  540088.1417665294\n"
     ]
    }
   ],
   "source": [
    "price=sales[\"price\"]\n",
    "print(\"Mean of price = \",price.mean())"
   ]
  },
  {
   "cell_type": "markdown",
   "metadata": {
    "id": "2QO6-TXvddnN"
   },
   "source": [
    "Q4) Find out which zipcode has maximum no of sales"
   ]
  },
  {
   "cell_type": "code",
   "execution_count": 71,
   "metadata": {
    "id": "vlSAsQfQfgg2",
    "scrolled": true
   },
   "outputs": [
    {
     "name": "stdout",
     "output_type": "stream",
     "text": [
      "Zipcode with maximum sales is =  98103\n"
     ]
    }
   ],
   "source": [
    "Zipcode=sales[\"zipcode\"]\n",
    "print(\"Zipcode with maximum sales is = \",Zipcode.mode()[0])"
   ]
  },
  {
   "cell_type": "markdown",
   "metadata": {
    "id": "eeLeVaWBdj7e"
   },
   "source": [
    "Q5) Make an array displaying type of house grade present"
   ]
  },
  {
   "cell_type": "code",
   "execution_count": 73,
   "metadata": {
    "id": "TOVrRt4sfhrK"
   },
   "outputs": [
    {
     "name": "stdout",
     "output_type": "stream",
     "text": [
      "The different grades of houses are:\n",
      "{1, 3, 4, 5, 6, 7, 8, 9, 10, 11, 12, 13}\n"
     ]
    }
   ],
   "source": [
    "grade=sales[\"grade\"]\n",
    "grade=set(grade)\n",
    "grade=np.array(grade)\n",
    "print(\"The different grades of houses are:\")\n",
    "print(grade)"
   ]
  },
  {
   "cell_type": "markdown",
   "metadata": {
    "id": "vyYhtqQDdxqj"
   },
   "source": [
    "Q6) Find out the total no sales in conditions 3 and 4"
   ]
  },
  {
   "cell_type": "code",
   "execution_count": 74,
   "metadata": {
    "id": "SkBMOVvafiei"
   },
   "outputs": [],
   "source": [
    "cond = sales['condition'].value_counts()"
   ]
  },
  {
   "cell_type": "code",
   "execution_count": 78,
   "metadata": {},
   "outputs": [
    {
     "name": "stdout",
     "output_type": "stream",
     "text": [
      "Number of sales in condition 3 =  14031\n"
     ]
    }
   ],
   "source": [
    "print(\"Number of sales in condition 3 = \",cond[3])"
   ]
  },
  {
   "cell_type": "code",
   "execution_count": 79,
   "metadata": {},
   "outputs": [
    {
     "name": "stdout",
     "output_type": "stream",
     "text": [
      "Number of sales in condition 4 =  5679\n"
     ]
    }
   ],
   "source": [
    "print(\"Number of sales in condition 4 = \",cond[4])"
   ]
  },
  {
   "cell_type": "code",
   "execution_count": 77,
   "metadata": {},
   "outputs": [
    {
     "name": "stdout",
     "output_type": "stream",
     "text": [
      "Total sales in conditions 3 and 4 =  19710\n"
     ]
    }
   ],
   "source": [
    "print(\"Total sales in conditions 3 and 4 = \",cond[3]+cond[4])"
   ]
  },
  {
   "cell_type": "markdown",
   "metadata": {
    "id": "AHs7ZLKrdTsD"
   },
   "source": [
    "Q7) Find out the top-five ids with the highest prices"
   ]
  },
  {
   "cell_type": "code",
   "execution_count": 83,
   "metadata": {
    "id": "BS653UBKfjfK"
   },
   "outputs": [
    {
     "name": "stdout",
     "output_type": "stream",
     "text": [
      "The ids with the highest prices are:\n",
      "1448    8907500070\n",
      "4411    2470100110\n",
      "9254    9208900037\n",
      "3914    9808700762\n",
      "7252    6762700020\n",
      "Name: id, dtype: int64\n"
     ]
    }
   ],
   "source": [
    "sales_sort=sales.sort_values('price')\n",
    "print(\"The ids with the highest prices are:\")\n",
    "print(sales_sort['id'].tail())"
   ]
  },
  {
   "cell_type": "markdown",
   "metadata": {
    "id": "XP54QULPdZTh"
   },
   "source": [
    "Q8) Draw a pie chart displaying the types of house conditions present"
   ]
  },
  {
   "cell_type": "code",
   "execution_count": 84,
   "metadata": {},
   "outputs": [],
   "source": [
    "cond_freq=sales['condition'].value_counts()\n",
    "cond_sum=cond_freq.sum()\n",
    "cond_percentage=(cond/cond_sum)*100"
   ]
  },
  {
   "cell_type": "code",
   "execution_count": 86,
   "metadata": {
    "id": "5XP9quaFfkaI",
    "scrolled": false
   },
   "outputs": [
    {
     "data": {
      "text/plain": [
       "([<matplotlib.patches.Wedge at 0x1c28dc1c608>,\n",
       "  <matplotlib.patches.Wedge at 0x1c28dc25288>,\n",
       "  <matplotlib.patches.Wedge at 0x1c28dc25cc8>,\n",
       "  <matplotlib.patches.Wedge at 0x1c28dc2c6c8>,\n",
       "  <matplotlib.patches.Wedge at 0x1c28dc320c8>],\n",
       " [Text(-0.49690197886140836, 0.9813706860323558, '3'),\n",
       "  Text(0.2100008356562849, -1.0797683311820467, '4'),\n",
       "  Text(1.0489089515253838, -0.3313457580985767, '5'),\n",
       "  Text(1.099374597696873, -0.03708765210738986, '2'),\n",
       "  Text(1.0999895428200286, -0.004796424354074961, '1')])"
      ]
     },
     "execution_count": 86,
     "metadata": {},
     "output_type": "execute_result"
    },
    {
     "data": {
      "image/png": "[encoded data removed]",
      "text/plain": [
       "<Figure size 432x288 with 1 Axes>"
      ]
     },
     "metadata": {},
     "output_type": "display_data"
    }
   ],
   "source": [
    "plt.pie(cond_percentage,labels=cond.index)"
   ]
  },
  {
   "cell_type": "markdown",
   "metadata": {
    "id": "8gkXMakRdgnZ"
   },
   "source": [
    "Q9) Draw a bar graph displaying the no of sales"
   ]
  },
  {
   "cell_type": "code",
   "execution_count": 92,
   "metadata": {
    "id": "LFwCnSCUflFB"
   },
   "outputs": [],
   "source": [
    "Zip=sales['zipcode']\n",
    "Zip=Zip.value_counts()\n",
    "Zip_index=np.array(Zip.index)"
   ]
  },
  {
   "cell_type": "code",
   "execution_count": 93,
   "metadata": {},
   "outputs": [
    {
     "data": {
      "text/plain": [
       "<BarContainer object of 70 artists>"
      ]
     },
     "execution_count": 93,
     "metadata": {},
     "output_type": "execute_result"
    },
    {
     "data": {
      "image/png": "[encoded data removed]",
      "text/plain": [
       "<Figure size 432x288 with 1 Axes>"
      ]
     },
     "metadata": {
      "needs_background": "light"
     },
     "output_type": "display_data"
    }
   ],
   "source": [
    "plt.bar(Zip_index,Zip.values)"
   ]
  },
  {
   "cell_type": "markdown",
   "metadata": {
    "id": "_LGgh106dsBQ"
   },
   "source": [
    "Q10) Draw a graph that display the no of sales according to the date"
   ]
  },
  {
   "cell_type": "code",
   "execution_count": 38,
   "metadata": {
    "id": "pcKacoICflze"
   },
   "outputs": [],
   "source": [
    "date=sales['date']"
   ]
  },
  {
   "cell_type": "code",
   "execution_count": 39,
   "metadata": {},
   "outputs": [],
   "source": [
    "date_freq = date.value_counts()"
   ]
  },
  {
   "cell_type": "code",
   "execution_count": 44,
   "metadata": {},
   "outputs": [
    {
     "data": {
      "text/plain": [
       "[<matplotlib.lines.Line2D at 0x1c28d550548>]"
      ]
     },
     "execution_count": 44,
     "metadata": {},
     "output_type": "execute_result"
    },
    {
     "data": {
      "image/png": "[encoded data removed]",
      "text/plain": [
       "<Figure size 432x288 with 1 Axes>"
      ]
     },
     "metadata": {
      "needs_background": "light"
     },
     "output_type": "display_data"
    }
   ],
   "source": [
    "date_index = np.array(date_freq.index)\n",
    "plt.plot(date_index,date_freq)"
   ]
  },
  {
   "cell_type": "markdown",
   "metadata": {
    "id": "jFgB7RxAd0rn"
   },
   "source": [
    "Q11) Draw a bar graph that displays the no of sales accoring to the house grade"
   ]
  },
  {
   "cell_type": "code",
   "execution_count": 94,
   "metadata": {},
   "outputs": [],
   "source": [
    "grade=sales['grade']\n",
    "grade=grade.value_counts()\n",
    "grade_index=np.array(grade.index)"
   ]
  },
  {
   "cell_type": "code",
   "execution_count": 95,
   "metadata": {},
   "outputs": [
    {
     "data": {
      "text/plain": [
       "<BarContainer object of 12 artists>"
      ]
     },
     "execution_count": 95,
     "metadata": {},
     "output_type": "execute_result"
    },
    {
     "data": {
      "image/png": "[encoded data removed]",
      "text/plain": [
       "<Figure size 432x288 with 1 Axes>"
      ]
     },
     "metadata": {
      "needs_background": "light"
     },
     "output_type": "display_data"
    }
   ],
   "source": [
    "plt.bar(grade_index,grade.values)"
   ]
  },
  {
   "cell_type": "markdown",
   "metadata": {
    "id": "HXIvKNK7doXJ"
   },
   "source": [
    "### BONUS"
   ]
  },
  {
   "cell_type": "markdown",
   "metadata": {
    "id": "PRP0ZaKFe8xt"
   },
   "source": [
    "Q1) Is there any relationship present between Year Built and Price? If yes, Please explain."
   ]
  },
  {
   "cell_type": "code",
   "execution_count": 51,
   "metadata": {},
   "outputs": [
    {
     "data": {
      "text/plain": [
       "yr_built\n",
       "1900    581387.206897\n",
       "1901    556935.931034\n",
       "1902    673007.407407\n",
       "1903    480958.195652\n",
       "1904    583756.644444\n",
       "            ...      \n",
       "2011    544522.000000\n",
       "2012    527447.335294\n",
       "2013    678545.452736\n",
       "2014    683681.754919\n",
       "2015    759785.157895\n",
       "Name: price, Length: 116, dtype: float64"
      ]
     },
     "execution_count": 51,
     "metadata": {},
     "output_type": "execute_result"
    }
   ],
   "source": [
    "sales_by_year = sales.groupby('yr_built').mean()\n",
    "sales_by_year = sales_by_year['price']"
   ]
  },
  {
   "cell_type": "code",
   "execution_count": 52,
   "metadata": {},
   "outputs": [
    {
     "data": {
      "text/plain": [
       "[<matplotlib.lines.Line2D at 0x1c28db107c8>,\n",
       " <matplotlib.lines.Line2D at 0x1c28daebe48>,\n",
       " <matplotlib.lines.Line2D at 0x1c28db10588>,\n",
       " <matplotlib.lines.Line2D at 0x1c28db10a08>,\n",
       " <matplotlib.lines.Line2D at 0x1c28db10b88>,\n",
       " <matplotlib.lines.Line2D at 0x1c28db10d08>,\n",
       " <matplotlib.lines.Line2D at 0x1c28db10e48>,\n",
       " <matplotlib.lines.Line2D at 0x1c28db10fc8>,\n",
       " <matplotlib.lines.Line2D at 0x1c28db10b08>,\n",
       " <matplotlib.lines.Line2D at 0x1c28db10c88>,\n",
       " <matplotlib.lines.Line2D at 0x1c28bb88088>,\n",
       " <matplotlib.lines.Line2D at 0x1c28db15548>,\n",
       " <matplotlib.lines.Line2D at 0x1c28db156c8>,\n",
       " <matplotlib.lines.Line2D at 0x1c28db15848>,\n",
       " <matplotlib.lines.Line2D at 0x1c28db159c8>,\n",
       " <matplotlib.lines.Line2D at 0x1c28db15b48>,\n",
       " <matplotlib.lines.Line2D at 0x1c28db15cc8>,\n",
       " <matplotlib.lines.Line2D at 0x1c28db15e48>,\n",
       " <matplotlib.lines.Line2D at 0x1c28db15fc8>]"
      ]
     },
     "execution_count": 52,
     "metadata": {},
     "output_type": "execute_result"
    },
    {
     "data": {
      "image/png": "[encoded data removed]",
      "text/plain": [
       "<Figure size 432x288 with 1 Axes>"
      ]
     },
     "metadata": {
      "needs_background": "light"
     },
     "output_type": "display_data"
    }
   ],
   "source": [
    "plt.plot(np.array(sales_by_year.index),sales_by_year)"
   ]
  },
  {
   "cell_type": "markdown",
   "metadata": {},
   "source": [
    "Since the graph seems to not be following any particular pattern, we can conclude that there is no direct relation between year built and the price of the house."
   ]
  },
  {
   "cell_type": "markdown",
   "metadata": {
    "id": "QQvNxYe5d3-3"
   },
   "source": [
    "Q2 ) Add 1.8% TAX on every sale Price within Zipcode 98103"
   ]
  },
  {
   "cell_type": "code",
   "execution_count": 62,
   "metadata": {
    "id": "lWDids4yfEAz"
   },
   "outputs": [
    {
     "data": {
      "text/plain": [
       "17       485000.0\n",
       "111      570000.0\n",
       "116      518500.0\n",
       "128      822500.0\n",
       "149      511000.0\n",
       "           ...   \n",
       "21567    690000.0\n",
       "21574    610950.0\n",
       "21592    475000.0\n",
       "21595    520000.0\n",
       "21608    360000.0\n",
       "Name: price, Length: 602, dtype: float64"
      ]
     },
     "execution_count": 62,
     "metadata": {},
     "output_type": "execute_result"
    }
   ],
   "source": [
    "zip_98103=sales[sales['zipcode']==98103]\n",
    "zip_98103 = zip_98103['price']"
   ]
  },
  {
   "cell_type": "code",
   "execution_count": 61,
   "metadata": {},
   "outputs": [
    {
     "data": {
      "text/plain": [
       "17       493730.0\n",
       "111      580260.0\n",
       "116      527833.0\n",
       "128      837305.0\n",
       "149      520198.0\n",
       "           ...   \n",
       "21567    702420.0\n",
       "21574    621947.1\n",
       "21592    483550.0\n",
       "21595    529360.0\n",
       "21608    366480.0\n",
       "Name: price, Length: 602, dtype: float64"
      ]
     },
     "execution_count": 61,
     "metadata": {},
     "output_type": "execute_result"
    }
   ],
   "source": [
    "zip_tax = zip_98103*1.018\n",
    "zip_tax #price after tax was applied"
   ]
  }
 ],
 "metadata": {
  "colab": {
   "collapsed_sections": [],
   "name": "PythonAssessment_2022-23",
   "provenance": []
  },
  "kernelspec": {
   "display_name": "Python 3",
   "language": "python",
   "name": "python3"
  },
  "language_info": {
   "codemirror_mode": {
    "name": "ipython",
    "version": 3
   },
   "file_extension": ".py",
   "mimetype": "text/x-python",
   "name": "python",
   "nbconvert_exporter": "python",
   "pygments_lexer": "ipython3",
   "version": "3.7.9"
  }
 },
 "nbformat": 4,
 "nbformat_minor": 1
}
